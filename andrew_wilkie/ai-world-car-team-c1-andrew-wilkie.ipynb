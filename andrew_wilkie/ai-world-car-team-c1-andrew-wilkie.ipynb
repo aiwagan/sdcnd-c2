{
 "cells": [
  {
   "cell_type": "markdown",
   "metadata": {},
   "source": [
    "---"
   ]
  },
  {
   "cell_type": "markdown",
   "metadata": {
    "collapsed": true
   },
   "source": [
    "# SDC Challenge 1 - Lane Steering (CNN)\n",
    "\n",
    "## ai-world-car-team-c1 @andrew_wilkie\n",
    "\n",
    "* [Implementing end-to-end network approach by NVIDIA](https://devblogs.nvidia.com/parallelforall/deep-learning-self-driving-cars/)\n",
    "* [End-to-end CNN architecture](https://devblogs.nvidia.com/parallelforall/wp-content/uploads/2016/08/cnn-architecture-624x890.png)"
   ]
  },
  {
   "cell_type": "markdown",
   "metadata": {},
   "source": [
    "---"
   ]
  },
  {
   "cell_type": "markdown",
   "metadata": {},
   "source": [
    "### [Layers](https://keras.io/layers/writing-your-own-keras-layers/)\n",
    "1. #### Input Planes - 3 @ 66 x 200\n",
    "    * [Image Preprocessing required?](https://keras.io/preprocessing/image/)\n",
    "1. #### [Normalisation](https://keras.io/layers/normalization/)\n",
    "1. #### Normalised Input Planes - 3 @ 66 x 200 (5 x 5 kernel)\n",
    "1. #### Convolutional ([3d](https://keras.io/layers/convolutional/#convolution3d)) Feature Map - 24 @ 31 x 98 (5 x 5 kernel)\n",
    "1. #### Convolutional ([3d](https://keras.io/layers/convolutional/#convolution3d)) Feature Map - 36 @ 14 x 47 (5 x 5 kernel)\n",
    "1. #### Convolutional ([3d](https://keras.io/layers/convolutional/#convolution3d)) Feature Map - 48 @ 5 x 22 (3 x 3 kernel)\n",
    "1. #### Convolutional ([3d](https://keras.io/layers/convolutional/#convolution3d)) Feature Map - 64 @ 3 x 20 (3 x 3 kernel)\n",
    "1. #### Convolutional ([3d](https://keras.io/layers/convolutional/#convolution3d)) Feature Map - 64 @ 1 x 18 ([Flatten](https://keras.io/layers/core/#flatten) -> 1164 neurons)\n",
    "1. #### 100 Neurons - ([Fully connected](https://keras.io/layers/core/#dense))\n",
    "1. #### 50 Neurons - ([Fully connected](https://keras.io/layers/core/#dense))\n",
    "1. #### 10 Neurons - ([Fully connected](https://keras.io/layers/core/#dense))\n",
    "1. #### Output : Vehicle Control\n",
    "    * CSV file containing network steering direction."
   ]
  },
  {
   "cell_type": "markdown",
   "metadata": {},
   "source": [
    "---"
   ]
  },
  {
   "cell_type": "markdown",
   "metadata": {},
   "source": [
    "### Evaluation\n",
    "    * Root mean squared error value."
   ]
  },
  {
   "cell_type": "markdown",
   "metadata": {},
   "source": [
    "---"
   ]
  },
  {
   "cell_type": "code",
   "execution_count": null,
   "metadata": {
    "collapsed": true
   },
   "outputs": [],
   "source": []
  }
 ],
 "metadata": {
  "kernelspec": {
   "display_name": "Python 3",
   "language": "python",
   "name": "python3"
  },
  "language_info": {
   "codemirror_mode": {
    "name": "ipython",
    "version": 3
   },
   "file_extension": ".py",
   "mimetype": "text/x-python",
   "name": "python",
   "nbconvert_exporter": "python",
   "pygments_lexer": "ipython3",
   "version": "3.5.2"
  }
 },
 "nbformat": 4,
 "nbformat_minor": 0
}
