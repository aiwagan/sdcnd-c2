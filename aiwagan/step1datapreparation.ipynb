{
 "cells": [
  {
   "cell_type": "code",
   "execution_count": 74,
   "metadata": {
    "collapsed": true
   },
   "outputs": [],
   "source": [
    "from __future__ import print_function\n",
    "import argparse\n",
    "import pandas as pd\n",
    "import numpy as np\n",
    "import rosbag\n",
    "import cv2\n",
    "import os\n",
    "from scipy.interpolate import interp1d\n",
    "from scipy import array\n",
    "from scipy import interp\n",
    "from cv_bridge import CvBridge              # , CvBridgeError"
   ]
  },
  {
   "cell_type": "code",
   "execution_count": 58,
   "metadata": {
    "collapsed": true
   },
   "outputs": [],
   "source": [
    "#Setting up the parameters\n",
    "dataset_images=\"/home/aiwagan/data/udacity-dataset_sensor_camera_center_2016-10-09-03-47-05_0.bag\"\n",
    "dataset_vehicle=\"/home/aiwagan/data/udacity-dataset_io_vehicle_2016-10-09-03-47-05_0.bag\"\n",
    "\n",
    "skip=0\n",
    "outdir=\"/home/aiwagan/output/\"\n",
    "fmt = 'jpg'"
   ]
  },
  {
   "cell_type": "code",
   "execution_count": 45,
   "metadata": {
    "collapsed": false
   },
   "outputs": [
    {
     "name": "stdout",
     "output_type": "stream",
     "text": [
      "reading rosbag  /home/aiwagan/data/udacity-dataset_io_vehicle_2016-10-09-03-47-05_0.bag\n",
      "skipping  0  seconds from  1476010038.81  to  1476010038.81  ...\n"
     ]
    }
   ],
   "source": [
    "startsec = 0\n",
    "\n",
    "f_steer = open('steering_angle.csv', 'w')\n",
    "f_gps = open('gps.csv', 'w')\n",
    "\n",
    "angle_steers = 0\n",
    "topics_req = ['/vehicle/steering_report', '/vehicle/gps/fix']\n",
    "print (\"reading rosbag \", dataset_vehicle)\n",
    "bag = rosbag.Bag(dataset_vehicle, 'r')\n",
    "\n",
    "for topic, msg, t in bag.read_messages(topics=topics_req):\n",
    "    if startsec == 0:\n",
    "        startsec = t.to_sec()\n",
    "        if skip < 24 * 60 * 60:\n",
    "            skipping = t.to_sec() + skip\n",
    "            print (\"skipping \", skip, \" seconds from \", startsec, \" to \", skipping, \" ...\")\n",
    "        else:\n",
    "            skipping = skip\n",
    "            print (\"skipping to \", skip, \" from \", startsec, \" ...\")\n",
    "    else:\n",
    "        if t.to_sec() > skipping:\n",
    "            if topic in ['/vehicle/steering_report']:\n",
    "                f_steer.write(str(msg.header.stamp) + \",\" + str(msg.steering_wheel_angle)+\"\\n\")\n",
    "\n",
    "            if topic in ['/vehicle/gps/fix']:\n",
    "                f_gps.write(str(msg.header.stamp) + \",\" + str( msg.latitude) + \",\" + str(msg.longitude)+\"\\n\")\n",
    "\n",
    "f_gps.close()\n",
    "f_steer.close()"
   ]
  },
  {
   "cell_type": "code",
   "execution_count": 75,
   "metadata": {
    "collapsed": true
   },
   "outputs": [],
   "source": [
    "df_steer = pd.read_csv('steering_angle.csv')\n",
    "df_gps = pd.read_csv('gps.csv')\n",
    "\n",
    "\n",
    "def extrap1d(interpolator):\n",
    "    xs = interpolator.x\n",
    "    ys = interpolator.y\n",
    "\n",
    "    def pointwise(x):\n",
    "        if x < xs[0]:\n",
    "            return ys[0]+(x-xs[0])*(ys[1]-ys[0])/(xs[1]-xs[0])\n",
    "        elif x > xs[-1]:\n",
    "            return ys[-1]+(x-xs[-1])*(ys[-1]-ys[-2])/(xs[-1]-xs[-2])\n",
    "        else:\n",
    "            return interpolator(x)\n",
    "\n",
    "    def ufunclike(xs):\n",
    "        return array(map(pointwise, array(xs)))\n",
    "\n",
    "    return ufunclike\n",
    "\n",
    "func_steer_interp=extrap1d(interp1d(df_steer.ix[:,0],df_steer.ix[:,1]) )\n",
    "func_gps_latitude_interp=extrap1d(interp1d(df_gps.ix[:,0],df_gps.ix[:,1]) )\n",
    "func_gps_longitude_interp=extrap1d(interp1d( df_gps.ix[:,0],df_gps.ix[:,2]) )"
   ]
  },
  {
   "cell_type": "code",
   "execution_count": 79,
   "metadata": {
    "collapsed": false
   },
   "outputs": [
    {
     "name": "stdout",
     "output_type": "stream",
     "text": [
      "[-0.36826447]\n"
     ]
    }
   ],
   "source": [
    "print(func_steer_interp([1475520790481041481]))"
   ]
  },
  {
   "cell_type": "code",
   "execution_count": null,
   "metadata": {
    "collapsed": false
   },
   "outputs": [],
   "source": [
    "imgbag = rosbag.Bag(dataset_images, 'r')\n",
    "\n",
    "f_steer = open('/home/aiwagan/challenge2/challenge2.csv', 'w')\n",
    "f_gps_long = open('/home/aiwagan/challenge2/challenge3_long.csv', 'w')\n",
    "f_gps_lati = open('/home/aiwagan/challenge2/challenge3_lat.csv', 'w')\n",
    "\n",
    "\n",
    "startsec = 0\n",
    "bridge = CvBridge()\n",
    "\n",
    "for topic, msg, t in imgbag.read_messages(topics=['/center_camera/image_color/compressed']):\n",
    "    if startsec == 0:\n",
    "        startsec = t.to_sec()\n",
    "        if skip < 24 * 60 * 60:\n",
    "            skipping = t.to_sec() + skip\n",
    "            print (\"skipping \", skip, \" seconds from \", startsec, \" to \", skipping, \" ...\")\n",
    "        else:\n",
    "            skipping = skip\n",
    "            print (\"skipping to \", skip, \" from \", startsec, \" ...\")\n",
    "    else:\n",
    "        if t.to_sec() > skipping:\n",
    "            try:\n",
    "                if topic in ['/center_camera/image_color/compressed']:\n",
    "                    f_steer.write( str(msg.header.stamp) + \".jpg \" + str(func_steer_interp([int(str(msg.header.stamp))])[0]) + \"\\n\" )\n",
    "                    f_gps_lati.write( str(msg.header.stamp) + \".jpg \" + str(func_gps_latitude_interp([int(str(msg.header.stamp))])[0]) + \"\\n\")         \n",
    "                    f_gps_long.write( str(msg.header.stamp) + \".jpg \" + str(func_gps_longitude_interp([int(str(msg.header.stamp))])[0]) + \"\\n\")\n",
    "                    #bridge.imgmsg_to_cv2(msg.data, \"bgr8\")\n",
    "                    #cv_image = msg.data\n",
    "                    np_arr = np.fromstring(msg.data, np.uint8)\n",
    "                    cv_image = cv2.imdecode(np_arr, cv2.CV_LOAD_IMAGE_COLOR)\n",
    "                    cv_image = cv2.resize(cv_image, (160, 120), interpolation=cv2.INTER_CUBIC)\n",
    "                    image_filename = os.path.join(outdir, str(msg.header.stamp) + '.' + fmt)\n",
    "                    cv2.imwrite(image_filename, cv_image)\n",
    "            except:\n",
    "                print(\"Error saving image.\")\n",
    "\n",
    "\n",
    "\n",
    "f_steer.close()\n",
    "f_gps_lati.close()\n",
    "f_gps_long.close()"
   ]
  },
  {
   "cell_type": "code",
   "execution_count": 33,
   "metadata": {
    "collapsed": true
   },
   "outputs": [],
   "source": []
  },
  {
   "cell_type": "code",
   "execution_count": 42,
   "metadata": {
    "collapsed": false
   },
   "outputs": [
    {
     "name": "stdout",
     "output_type": "stream",
     "text": [
      "-0.368264466524\n"
     ]
    }
   ],
   "source": [
    "print(f(df_steer.ix[400,0]))"
   ]
  },
  {
   "cell_type": "code",
   "execution_count": null,
   "metadata": {
    "collapsed": true
   },
   "outputs": [],
   "source": []
  }
 ],
 "metadata": {
  "kernelspec": {
   "display_name": "Python 2",
   "language": "python",
   "name": "python2"
  },
  "language_info": {
   "codemirror_mode": {
    "name": "ipython",
    "version": 2
   },
   "file_extension": ".py",
   "mimetype": "text/x-python",
   "name": "python",
   "nbconvert_exporter": "python",
   "pygments_lexer": "ipython2",
   "version": "2.7.12"
  }
 },
 "nbformat": 4,
 "nbformat_minor": 0
}
